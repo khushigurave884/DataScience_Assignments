{
 "cells": [
  {
   "cell_type": "markdown",
   "id": "a7175960-8b1f-4c40-8908-d3cc48372588",
   "metadata": {},
   "source": [
    "Q2. A National Zoopark in India is dealing with the problem of segregation of the animals based on the different attributes they have. Build a KNN model to automatically classify the animals. Explain any inferences you draw in the documentation."
   ]
  },
  {
   "cell_type": "markdown",
   "id": "a0db47e2-ac7e-4d49-8222-b5f2790424ed",
   "metadata": {},
   "source": [
    "-----------------------------------------------------------------------------------------------------------------------------------------------------------\n",
    "-----------------------------------------------------------------------------------------------------------------------------------------------------------\n",
    "Objectives:\n",
    "Automate Animal Classification: Develop a KNN-based model to classify animals based on specific attributes. This classification should help in organizing animals within the zoo according to their characteristics.\n",
    "\n",
    "Enhance Zoo Management: Facilitate easier animal management by categorizing animals, which can help with enclosure arrangements, feeding schedules, and medical care.\n",
    "\n",
    "Improve Visitor Experience: By grouping similar animals together, the zoo can create a more organized layout that enhances the educational and viewing experience for visitors.\n",
    "\n",
    "Support Conservation Efforts: Grouping animals with similar ecological or biological attributes may aid in conservation planning, breeding programs, and habitat simulations.\n",
    "\n",
    "--------------------------------------------------------------------------------------------------------------------------------------------------------\n",
    "Constraints:\n",
    "\n",
    "Data Quality: The model's performance relies on accurate, consistent, and comprehensive data on animal attributes. Any data inaccuracies could affect classification results.\n",
    "\n",
    "Model Sensitivity: KNN models can be sensitive to the choice of the k value, so it may require tuning to achieve optimal classification accuracy.\n",
    "\n",
    "Scalability: The model should be able to handle an expanding database of animal attributes, especially if new animals or updated attributes are added.\n",
    "\n",
    "Interpretability: The classification results should be easily interpretable by zoo staff to facilitate effective decision-making.\n",
    "\n",
    "Computational Efficiency: Since KNN is a lazy learning algorithm, the model can be computationally expensive, especially with larger datasets. Efficient computation is necessary if the model is expected to be used in real-time."
   ]
  },
  {
   "cell_type": "code",
   "execution_count": 3,
   "id": "e29e6c90-bd42-4822-b76d-370f46b28b55",
   "metadata": {},
   "outputs": [
    {
     "data": {
      "text/html": [
       "<div>\n",
       "<style scoped>\n",
       "    .dataframe tbody tr th:only-of-type {\n",
       "        vertical-align: middle;\n",
       "    }\n",
       "\n",
       "    .dataframe tbody tr th {\n",
       "        vertical-align: top;\n",
       "    }\n",
       "\n",
       "    .dataframe thead th {\n",
       "        text-align: right;\n",
       "    }\n",
       "</style>\n",
       "<table border=\"1\" class=\"dataframe\">\n",
       "  <thead>\n",
       "    <tr style=\"text-align: right;\">\n",
       "      <th></th>\n",
       "      <th>animal name</th>\n",
       "      <th>hair</th>\n",
       "      <th>feathers</th>\n",
       "      <th>eggs</th>\n",
       "      <th>milk</th>\n",
       "      <th>airborne</th>\n",
       "      <th>aquatic</th>\n",
       "      <th>predator</th>\n",
       "      <th>toothed</th>\n",
       "      <th>backbone</th>\n",
       "      <th>breathes</th>\n",
       "      <th>venomous</th>\n",
       "      <th>fins</th>\n",
       "      <th>legs</th>\n",
       "      <th>tail</th>\n",
       "      <th>domestic</th>\n",
       "      <th>catsize</th>\n",
       "      <th>type</th>\n",
       "    </tr>\n",
       "  </thead>\n",
       "  <tbody>\n",
       "    <tr>\n",
       "      <th>0</th>\n",
       "      <td>aardvark</td>\n",
       "      <td>1</td>\n",
       "      <td>0</td>\n",
       "      <td>0</td>\n",
       "      <td>1</td>\n",
       "      <td>0</td>\n",
       "      <td>0</td>\n",
       "      <td>1</td>\n",
       "      <td>1</td>\n",
       "      <td>1</td>\n",
       "      <td>1</td>\n",
       "      <td>0</td>\n",
       "      <td>0</td>\n",
       "      <td>4</td>\n",
       "      <td>0</td>\n",
       "      <td>0</td>\n",
       "      <td>1</td>\n",
       "      <td>1</td>\n",
       "    </tr>\n",
       "    <tr>\n",
       "      <th>1</th>\n",
       "      <td>antelope</td>\n",
       "      <td>1</td>\n",
       "      <td>0</td>\n",
       "      <td>0</td>\n",
       "      <td>1</td>\n",
       "      <td>0</td>\n",
       "      <td>0</td>\n",
       "      <td>0</td>\n",
       "      <td>1</td>\n",
       "      <td>1</td>\n",
       "      <td>1</td>\n",
       "      <td>0</td>\n",
       "      <td>0</td>\n",
       "      <td>4</td>\n",
       "      <td>1</td>\n",
       "      <td>0</td>\n",
       "      <td>1</td>\n",
       "      <td>1</td>\n",
       "    </tr>\n",
       "    <tr>\n",
       "      <th>2</th>\n",
       "      <td>bass</td>\n",
       "      <td>0</td>\n",
       "      <td>0</td>\n",
       "      <td>1</td>\n",
       "      <td>0</td>\n",
       "      <td>0</td>\n",
       "      <td>1</td>\n",
       "      <td>1</td>\n",
       "      <td>1</td>\n",
       "      <td>1</td>\n",
       "      <td>0</td>\n",
       "      <td>0</td>\n",
       "      <td>1</td>\n",
       "      <td>0</td>\n",
       "      <td>1</td>\n",
       "      <td>0</td>\n",
       "      <td>0</td>\n",
       "      <td>4</td>\n",
       "    </tr>\n",
       "    <tr>\n",
       "      <th>3</th>\n",
       "      <td>bear</td>\n",
       "      <td>1</td>\n",
       "      <td>0</td>\n",
       "      <td>0</td>\n",
       "      <td>1</td>\n",
       "      <td>0</td>\n",
       "      <td>0</td>\n",
       "      <td>1</td>\n",
       "      <td>1</td>\n",
       "      <td>1</td>\n",
       "      <td>1</td>\n",
       "      <td>0</td>\n",
       "      <td>0</td>\n",
       "      <td>4</td>\n",
       "      <td>0</td>\n",
       "      <td>0</td>\n",
       "      <td>1</td>\n",
       "      <td>1</td>\n",
       "    </tr>\n",
       "    <tr>\n",
       "      <th>4</th>\n",
       "      <td>boar</td>\n",
       "      <td>1</td>\n",
       "      <td>0</td>\n",
       "      <td>0</td>\n",
       "      <td>1</td>\n",
       "      <td>0</td>\n",
       "      <td>0</td>\n",
       "      <td>1</td>\n",
       "      <td>1</td>\n",
       "      <td>1</td>\n",
       "      <td>1</td>\n",
       "      <td>0</td>\n",
       "      <td>0</td>\n",
       "      <td>4</td>\n",
       "      <td>1</td>\n",
       "      <td>0</td>\n",
       "      <td>1</td>\n",
       "      <td>1</td>\n",
       "    </tr>\n",
       "  </tbody>\n",
       "</table>\n",
       "</div>"
      ],
      "text/plain": [
       "  animal name  hair  feathers  eggs  milk  airborne  aquatic  predator  \\\n",
       "0    aardvark     1         0     0     1         0        0         1   \n",
       "1    antelope     1         0     0     1         0        0         0   \n",
       "2        bass     0         0     1     0         0        1         1   \n",
       "3        bear     1         0     0     1         0        0         1   \n",
       "4        boar     1         0     0     1         0        0         1   \n",
       "\n",
       "   toothed  backbone  breathes  venomous  fins  legs  tail  domestic  catsize  \\\n",
       "0        1         1         1         0     0     4     0         0        1   \n",
       "1        1         1         1         0     0     4     1         0        1   \n",
       "2        1         1         0         0     1     0     1         0        0   \n",
       "3        1         1         1         0     0     4     0         0        1   \n",
       "4        1         1         1         0     0     4     1         0        1   \n",
       "\n",
       "   type  \n",
       "0     1  \n",
       "1     1  \n",
       "2     4  \n",
       "3     1  \n",
       "4     1  "
      ]
     },
     "execution_count": 3,
     "metadata": {},
     "output_type": "execute_result"
    }
   ],
   "source": [
    "import pandas as pd\n",
    "import numpy as np\n",
    "data = pd.read_csv(\"zoo.csv\")\n",
    "data.head()"
   ]
  },
  {
   "cell_type": "code",
   "execution_count": 5,
   "id": "b7c78852-767c-435c-858d-1739b5257f86",
   "metadata": {},
   "outputs": [
    {
     "data": {
      "text/plain": [
       "(101, 18)"
      ]
     },
     "execution_count": 5,
     "metadata": {},
     "output_type": "execute_result"
    }
   ],
   "source": [
    "##First we will check shape of data\n",
    "data.shape"
   ]
  },
  {
   "cell_type": "code",
   "execution_count": 7,
   "id": "341d1710-9874-43af-a9c2-e3345e439c8a",
   "metadata": {},
   "outputs": [
    {
     "data": {
      "text/plain": [
       "'\\nanimal.name :Discrete (Categorical)\\nhair\\t    :Discrete (Binary)\\nfeathers\\t:Discrete (Binary)\\neggs\\t    :Discrete (Binary)\\nmilk\\t    :Discrete (Binary)\\nairborne\\t:Discrete (Binary)\\naquatic\\t    :Discrete (Binary)\\npredator\\t:Discrete (Binary)\\ntoothed\\t    :Discrete (Binary)\\nbackbone\\t:Discrete (Binary)\\nbreathes\\t:Discrete (Binary)\\nvenomous\\t:Discrete (Binary)\\nfins\\t    :Discrete (Binary)\\nlegs\\t    :Discrete (Integer)\\ntail\\t    :Discrete (Binary)\\ndomestic\\t:Discrete (Binary)\\n'"
      ]
     },
     "execution_count": 7,
     "metadata": {},
     "output_type": "execute_result"
    }
   ],
   "source": [
    "#data Dictionary\n",
    "\"\"\"\n",
    "animal.name :Discrete (Categorical)\n",
    "hair\t    :Discrete (Binary)\n",
    "feathers\t:Discrete (Binary)\n",
    "eggs\t    :Discrete (Binary)\n",
    "milk\t    :Discrete (Binary)\n",
    "airborne\t:Discrete (Binary)\n",
    "aquatic\t    :Discrete (Binary)\n",
    "predator\t:Discrete (Binary)\n",
    "toothed\t    :Discrete (Binary)\n",
    "backbone\t:Discrete (Binary)\n",
    "breathes\t:Discrete (Binary)\n",
    "venomous\t:Discrete (Binary)\n",
    "fins\t    :Discrete (Binary)\n",
    "legs\t    :Discrete (Integer)\n",
    "tail\t    :Discrete (Binary)\n",
    "domestic\t:Discrete (Binary)\n",
    "\"\"\"\n"
   ]
  },
  {
   "cell_type": "code",
   "execution_count": 11,
   "id": "c78e13ff-ac22-4b3e-8680-9c9ad54baef9",
   "metadata": {},
   "outputs": [
    {
     "data": {
      "text/plain": [
       "animal name    object\n",
       "hair            int64\n",
       "feathers        int64\n",
       "eggs            int64\n",
       "milk            int64\n",
       "airborne        int64\n",
       "aquatic         int64\n",
       "predator        int64\n",
       "toothed         int64\n",
       "backbone        int64\n",
       "breathes        int64\n",
       "venomous        int64\n",
       "fins            int64\n",
       "legs            int64\n",
       "tail            int64\n",
       "domestic        int64\n",
       "catsize         int64\n",
       "type            int64\n",
       "dtype: object"
      ]
     },
     "execution_count": 11,
     "metadata": {},
     "output_type": "execute_result"
    }
   ],
   "source": [
    "#Data Preprocessing \n",
    "#First we will check the data type\n",
    "data.dtypes \n",
    "#Here we can observe alll the values are of int64 type"
   ]
  },
  {
   "cell_type": "code",
   "execution_count": 13,
   "id": "7d4f02db-71a3-4cbb-8fbf-da78a568be60",
   "metadata": {},
   "outputs": [
    {
     "data": {
      "text/plain": [
       "animal name    0\n",
       "hair           0\n",
       "feathers       0\n",
       "eggs           0\n",
       "milk           0\n",
       "airborne       0\n",
       "aquatic        0\n",
       "predator       0\n",
       "toothed        0\n",
       "backbone       0\n",
       "breathes       0\n",
       "venomous       0\n",
       "fins           0\n",
       "legs           0\n",
       "tail           0\n",
       "domestic       0\n",
       "catsize        0\n",
       "type           0\n",
       "dtype: int64"
      ]
     },
     "execution_count": 13,
     "metadata": {},
     "output_type": "execute_result"
    }
   ],
   "source": [
    "#Check the null values\n",
    "data.isna().sum() \n",
    "#from ouput we can see that there are zero null values"
   ]
  },
  {
   "cell_type": "code",
   "execution_count": 15,
   "id": "bf2c3ec9-f65b-474a-b642-c652c9d70c38",
   "metadata": {},
   "outputs": [
    {
     "data": {
      "text/plain": [
       "<Axes: >"
      ]
     },
     "execution_count": 15,
     "metadata": {},
     "output_type": "execute_result"
    },
    {
     "data": {
      "image/png": "[encoded data removed]",
      "text/plain": [
       "<Figure size 640x480 with 1 Axes>"
      ]
     },
     "metadata": {},
     "output_type": "display_data"
    }
   ],
   "source": [
    "#checking the outliers\n",
    "import seaborn as sns\n",
    "sns.boxplot(data[[\"hair\",\"feathers\",\"eggs\",\"milk\",\"airborne\",\"aquatic\",\"predator\",\"toothed\",\"backbone\",\"breathes\",\"venomous\",\"fins\",\"legs\",\"tail\",\"domestic\",\"catsize\"]])"
   ]
  },
  {
   "cell_type": "code",
   "execution_count": 19,
   "id": "a08d5275-ed73-49fd-8255-5fca988c2a28",
   "metadata": {},
   "outputs": [
    {
     "data": {
      "text/plain": [
       "(<Axes: >, (101, 17))"
      ]
     },
     "execution_count": 19,
     "metadata": {},
     "output_type": "execute_result"
    },
    {
     "data": {
      "image/png": "[encoded data removed]",
      "text/plain": [
       "<Figure size 640x480 with 1 Axes>"
      ]
     },
     "metadata": {},
     "output_type": "display_data"
    }
   ],
   "source": [
    "#Now outlier Treatment using replacement technique\n",
    "data=data.iloc[:,1:]\n",
    "IQR=data.quantile(0.75)-data.quantile(0.25)\n",
    "IQR\n",
    "lower_limit=data.quantile(0.25)-1.5*IQR\n",
    "upper_limit=data.quantile(0.75)+1.5*IQR\n",
    "IQR,lower_limit,upper_limit\n",
    "\n",
    "df_replaced=pd.DataFrame(np.where(data>upper_limit,upper_limit,np.where(data<lower_limit,lower_limit,data)))\n",
    "sns.boxplot(df_replaced),df_replaced.shape\n",
    "#now from boxplot we can see that outliers has been removed"
   ]
  },
  {
   "cell_type": "markdown",
   "id": "7b5d9888-c290-4801-b3cf-3298f63ae751",
   "metadata": {},
   "source": [
    "EDA\n",
    "-"
   ]
  },
  {
   "cell_type": "code",
   "execution_count": 22,
   "id": "44a3b42f-da79-4563-9cb4-4d6ffbade823",
   "metadata": {},
   "outputs": [
    {
     "data": {
      "text/html": [
       "<div>\n",
       "<style scoped>\n",
       "    .dataframe tbody tr th:only-of-type {\n",
       "        vertical-align: middle;\n",
       "    }\n",
       "\n",
       "    .dataframe tbody tr th {\n",
       "        vertical-align: top;\n",
       "    }\n",
       "\n",
       "    .dataframe thead th {\n",
       "        text-align: right;\n",
       "    }\n",
       "</style>\n",
       "<table border=\"1\" class=\"dataframe\">\n",
       "  <thead>\n",
       "    <tr style=\"text-align: right;\">\n",
       "      <th></th>\n",
       "      <th>0</th>\n",
       "      <th>1</th>\n",
       "      <th>2</th>\n",
       "      <th>3</th>\n",
       "      <th>4</th>\n",
       "      <th>5</th>\n",
       "      <th>6</th>\n",
       "      <th>7</th>\n",
       "      <th>8</th>\n",
       "      <th>9</th>\n",
       "      <th>10</th>\n",
       "      <th>11</th>\n",
       "      <th>12</th>\n",
       "      <th>13</th>\n",
       "      <th>14</th>\n",
       "      <th>15</th>\n",
       "      <th>16</th>\n",
       "    </tr>\n",
       "  </thead>\n",
       "  <tbody>\n",
       "    <tr>\n",
       "      <th>count</th>\n",
       "      <td>101.000000</td>\n",
       "      <td>101.0</td>\n",
       "      <td>101.000000</td>\n",
       "      <td>101.000000</td>\n",
       "      <td>101.0</td>\n",
       "      <td>101.000000</td>\n",
       "      <td>101.000000</td>\n",
       "      <td>101.000000</td>\n",
       "      <td>101.0</td>\n",
       "      <td>101.0</td>\n",
       "      <td>101.0</td>\n",
       "      <td>101.0</td>\n",
       "      <td>101.000000</td>\n",
       "      <td>101.000000</td>\n",
       "      <td>101.0</td>\n",
       "      <td>101.000000</td>\n",
       "      <td>101.000000</td>\n",
       "    </tr>\n",
       "    <tr>\n",
       "      <th>mean</th>\n",
       "      <td>0.425743</td>\n",
       "      <td>0.0</td>\n",
       "      <td>0.584158</td>\n",
       "      <td>0.405941</td>\n",
       "      <td>0.0</td>\n",
       "      <td>0.356436</td>\n",
       "      <td>0.554455</td>\n",
       "      <td>0.603960</td>\n",
       "      <td>1.0</td>\n",
       "      <td>1.0</td>\n",
       "      <td>0.0</td>\n",
       "      <td>0.0</td>\n",
       "      <td>2.821782</td>\n",
       "      <td>0.742574</td>\n",
       "      <td>0.0</td>\n",
       "      <td>0.435644</td>\n",
       "      <td>2.831683</td>\n",
       "    </tr>\n",
       "    <tr>\n",
       "      <th>std</th>\n",
       "      <td>0.496921</td>\n",
       "      <td>0.0</td>\n",
       "      <td>0.495325</td>\n",
       "      <td>0.493522</td>\n",
       "      <td>0.0</td>\n",
       "      <td>0.481335</td>\n",
       "      <td>0.499505</td>\n",
       "      <td>0.491512</td>\n",
       "      <td>0.0</td>\n",
       "      <td>0.0</td>\n",
       "      <td>0.0</td>\n",
       "      <td>0.0</td>\n",
       "      <td>1.986938</td>\n",
       "      <td>0.439397</td>\n",
       "      <td>0.0</td>\n",
       "      <td>0.498314</td>\n",
       "      <td>2.102709</td>\n",
       "    </tr>\n",
       "    <tr>\n",
       "      <th>min</th>\n",
       "      <td>0.000000</td>\n",
       "      <td>0.0</td>\n",
       "      <td>0.000000</td>\n",
       "      <td>0.000000</td>\n",
       "      <td>0.0</td>\n",
       "      <td>0.000000</td>\n",
       "      <td>0.000000</td>\n",
       "      <td>0.000000</td>\n",
       "      <td>1.0</td>\n",
       "      <td>1.0</td>\n",
       "      <td>0.0</td>\n",
       "      <td>0.0</td>\n",
       "      <td>0.000000</td>\n",
       "      <td>0.000000</td>\n",
       "      <td>0.0</td>\n",
       "      <td>0.000000</td>\n",
       "      <td>1.000000</td>\n",
       "    </tr>\n",
       "    <tr>\n",
       "      <th>25%</th>\n",
       "      <td>0.000000</td>\n",
       "      <td>0.0</td>\n",
       "      <td>0.000000</td>\n",
       "      <td>0.000000</td>\n",
       "      <td>0.0</td>\n",
       "      <td>0.000000</td>\n",
       "      <td>0.000000</td>\n",
       "      <td>0.000000</td>\n",
       "      <td>1.0</td>\n",
       "      <td>1.0</td>\n",
       "      <td>0.0</td>\n",
       "      <td>0.0</td>\n",
       "      <td>2.000000</td>\n",
       "      <td>0.000000</td>\n",
       "      <td>0.0</td>\n",
       "      <td>0.000000</td>\n",
       "      <td>1.000000</td>\n",
       "    </tr>\n",
       "    <tr>\n",
       "      <th>50%</th>\n",
       "      <td>0.000000</td>\n",
       "      <td>0.0</td>\n",
       "      <td>1.000000</td>\n",
       "      <td>0.000000</td>\n",
       "      <td>0.0</td>\n",
       "      <td>0.000000</td>\n",
       "      <td>1.000000</td>\n",
       "      <td>1.000000</td>\n",
       "      <td>1.0</td>\n",
       "      <td>1.0</td>\n",
       "      <td>0.0</td>\n",
       "      <td>0.0</td>\n",
       "      <td>4.000000</td>\n",
       "      <td>1.000000</td>\n",
       "      <td>0.0</td>\n",
       "      <td>0.000000</td>\n",
       "      <td>2.000000</td>\n",
       "    </tr>\n",
       "    <tr>\n",
       "      <th>75%</th>\n",
       "      <td>1.000000</td>\n",
       "      <td>0.0</td>\n",
       "      <td>1.000000</td>\n",
       "      <td>1.000000</td>\n",
       "      <td>0.0</td>\n",
       "      <td>1.000000</td>\n",
       "      <td>1.000000</td>\n",
       "      <td>1.000000</td>\n",
       "      <td>1.0</td>\n",
       "      <td>1.0</td>\n",
       "      <td>0.0</td>\n",
       "      <td>0.0</td>\n",
       "      <td>4.000000</td>\n",
       "      <td>1.000000</td>\n",
       "      <td>0.0</td>\n",
       "      <td>1.000000</td>\n",
       "      <td>4.000000</td>\n",
       "    </tr>\n",
       "    <tr>\n",
       "      <th>max</th>\n",
       "      <td>1.000000</td>\n",
       "      <td>0.0</td>\n",
       "      <td>1.000000</td>\n",
       "      <td>1.000000</td>\n",
       "      <td>0.0</td>\n",
       "      <td>1.000000</td>\n",
       "      <td>1.000000</td>\n",
       "      <td>1.000000</td>\n",
       "      <td>1.0</td>\n",
       "      <td>1.0</td>\n",
       "      <td>0.0</td>\n",
       "      <td>0.0</td>\n",
       "      <td>7.000000</td>\n",
       "      <td>1.000000</td>\n",
       "      <td>0.0</td>\n",
       "      <td>1.000000</td>\n",
       "      <td>7.000000</td>\n",
       "    </tr>\n",
       "  </tbody>\n",
       "</table>\n",
       "</div>"
      ],
      "text/plain": [
       "               0      1           2           3      4           5   \\\n",
       "count  101.000000  101.0  101.000000  101.000000  101.0  101.000000   \n",
       "mean     0.425743    0.0    0.584158    0.405941    0.0    0.356436   \n",
       "std      0.496921    0.0    0.495325    0.493522    0.0    0.481335   \n",
       "min      0.000000    0.0    0.000000    0.000000    0.0    0.000000   \n",
       "25%      0.000000    0.0    0.000000    0.000000    0.0    0.000000   \n",
       "50%      0.000000    0.0    1.000000    0.000000    0.0    0.000000   \n",
       "75%      1.000000    0.0    1.000000    1.000000    0.0    1.000000   \n",
       "max      1.000000    0.0    1.000000    1.000000    0.0    1.000000   \n",
       "\n",
       "               6           7      8      9      10     11          12  \\\n",
       "count  101.000000  101.000000  101.0  101.0  101.0  101.0  101.000000   \n",
       "mean     0.554455    0.603960    1.0    1.0    0.0    0.0    2.821782   \n",
       "std      0.499505    0.491512    0.0    0.0    0.0    0.0    1.986938   \n",
       "min      0.000000    0.000000    1.0    1.0    0.0    0.0    0.000000   \n",
       "25%      0.000000    0.000000    1.0    1.0    0.0    0.0    2.000000   \n",
       "50%      1.000000    1.000000    1.0    1.0    0.0    0.0    4.000000   \n",
       "75%      1.000000    1.000000    1.0    1.0    0.0    0.0    4.000000   \n",
       "max      1.000000    1.000000    1.0    1.0    0.0    0.0    7.000000   \n",
       "\n",
       "               13     14          15          16  \n",
       "count  101.000000  101.0  101.000000  101.000000  \n",
       "mean     0.742574    0.0    0.435644    2.831683  \n",
       "std      0.439397    0.0    0.498314    2.102709  \n",
       "min      0.000000    0.0    0.000000    1.000000  \n",
       "25%      0.000000    0.0    0.000000    1.000000  \n",
       "50%      1.000000    0.0    0.000000    2.000000  \n",
       "75%      1.000000    0.0    1.000000    4.000000  \n",
       "max      1.000000    0.0    1.000000    7.000000  "
      ]
     },
     "execution_count": 22,
     "metadata": {},
     "output_type": "execute_result"
    }
   ],
   "source": [
    "df_replaced.describe() #by this we came to know min ,max,std,mean 25%,75%,50%"
   ]
  },
  {
   "cell_type": "code",
   "execution_count": 28,
   "id": "87c84b84-bc68-4c54-bdfc-8174922157f7",
   "metadata": {},
   "outputs": [],
   "source": [
    "#Model Building\n",
    "#NOw let us apply x as input and y as output\n",
    "\n",
    "X=np.array(df_replaced.iloc[:,1:17])\n",
    "y=np.array(data['type'])"
   ]
  },
  {
   "cell_type": "code",
   "execution_count": 30,
   "id": "cac386f4-e451-4359-947b-2ff9c9bda578",
   "metadata": {},
   "outputs": [],
   "source": [
    "#NOw we will split the data into training and testing state\n",
    "from sklearn.model_selection import train_test_split\n",
    "X_train,X_test,y_train,y_test=train_test_split(X,y,test_size=0.2)"
   ]
  },
  {
   "cell_type": "code",
   "execution_count": 97,
   "id": "5ff62dc1-4c5c-4d5a-ab89-b7322b149070",
   "metadata": {},
   "outputs": [
    {
     "data": {
      "text/plain": [
       "array([4, 1, 2, 2, 1, 1, 2, 1, 7, 2, 1, 1, 7, 1, 2, 1, 4, 2, 7, 6, 2],\n",
       "      dtype=int64)"
      ]
     },
     "execution_count": 97,
     "metadata": {},
     "output_type": "execute_result"
    }
   ],
   "source": [
    "#Now we will apply model\n",
    "from sklearn.neighbors import KNeighborsClassifier \n",
    "knn=KNeighborsClassifier(n_neighbors=3)\n",
    "knn.fit(X_train,y_train)\n",
    "pred=knn.predict(X_test)\n",
    "pred"
   ]
  },
  {
   "cell_type": "code",
   "execution_count": 99,
   "id": "bf5150f6-441c-4367-a2ce-6c2c3674190d",
   "metadata": {
    "jp-MarkdownHeadingCollapsed": true
   },
   "outputs": [
    {
     "name": "stdout",
     "output_type": "stream",
     "text": [
      "0.9523809523809523\n"
     ]
    },
    {
     "data": {
      "text/html": [
       "<div>\n",
       "<style scoped>\n",
       "    .dataframe tbody tr th:only-of-type {\n",
       "        vertical-align: middle;\n",
       "    }\n",
       "\n",
       "    .dataframe tbody tr th {\n",
       "        vertical-align: top;\n",
       "    }\n",
       "\n",
       "    .dataframe thead th {\n",
       "        text-align: right;\n",
       "    }\n",
       "</style>\n",
       "<table border=\"1\" class=\"dataframe\">\n",
       "  <thead>\n",
       "    <tr style=\"text-align: right;\">\n",
       "      <th>col_0</th>\n",
       "      <th>1</th>\n",
       "      <th>2</th>\n",
       "      <th>3</th>\n",
       "      <th>4</th>\n",
       "      <th>6</th>\n",
       "      <th>7</th>\n",
       "    </tr>\n",
       "    <tr>\n",
       "      <th>row_0</th>\n",
       "      <th></th>\n",
       "      <th></th>\n",
       "      <th></th>\n",
       "      <th></th>\n",
       "      <th></th>\n",
       "      <th></th>\n",
       "    </tr>\n",
       "  </thead>\n",
       "  <tbody>\n",
       "    <tr>\n",
       "      <th>1</th>\n",
       "      <td>8</td>\n",
       "      <td>0</td>\n",
       "      <td>0</td>\n",
       "      <td>0</td>\n",
       "      <td>0</td>\n",
       "      <td>0</td>\n",
       "    </tr>\n",
       "    <tr>\n",
       "      <th>2</th>\n",
       "      <td>0</td>\n",
       "      <td>6</td>\n",
       "      <td>1</td>\n",
       "      <td>0</td>\n",
       "      <td>0</td>\n",
       "      <td>0</td>\n",
       "    </tr>\n",
       "    <tr>\n",
       "      <th>4</th>\n",
       "      <td>0</td>\n",
       "      <td>0</td>\n",
       "      <td>0</td>\n",
       "      <td>2</td>\n",
       "      <td>0</td>\n",
       "      <td>0</td>\n",
       "    </tr>\n",
       "    <tr>\n",
       "      <th>6</th>\n",
       "      <td>0</td>\n",
       "      <td>0</td>\n",
       "      <td>0</td>\n",
       "      <td>0</td>\n",
       "      <td>1</td>\n",
       "      <td>0</td>\n",
       "    </tr>\n",
       "    <tr>\n",
       "      <th>7</th>\n",
       "      <td>0</td>\n",
       "      <td>0</td>\n",
       "      <td>0</td>\n",
       "      <td>0</td>\n",
       "      <td>0</td>\n",
       "      <td>3</td>\n",
       "    </tr>\n",
       "  </tbody>\n",
       "</table>\n",
       "</div>"
      ],
      "text/plain": [
       "col_0  1  2  3  4  6  7\n",
       "row_0                  \n",
       "1      8  0  0  0  0  0\n",
       "2      0  6  1  0  0  0\n",
       "4      0  0  0  2  0  0\n",
       "6      0  0  0  0  1  0\n",
       "7      0  0  0  0  0  3"
      ]
     },
     "execution_count": 99,
     "metadata": {},
     "output_type": "execute_result"
    }
   ],
   "source": [
    "# Now we will wvaluate the model\n",
    "from sklearn.metrics import accuracy_score\n",
    "print(accuracy_score(pred,y_test)) \n",
    "pd.crosstab(pred,y_test)"
   ]
  },
  {
   "cell_type": "code",
   "execution_count": null,
   "id": "8b5dd8fa-553b-4633-ac2b-1d7f56564c23",
   "metadata": {},
   "outputs": [],
   "source": []
  },
  {
   "cell_type": "code",
   "execution_count": 85,
   "id": "5aa66dca-f56f-4155-8b38-422fd7b31ba4",
   "metadata": {},
   "outputs": [],
   "source": [
    "#let us try to select correct value of k\n",
    "acc=[]\n",
    "#Running KNN algorithm for k=3 to 50 in steps of 2\n",
    "for i in range(3,50,2):\n",
    "    neigh=KNeighborsClassifier(n_neighbors=i)\n",
    "    neigh.fit(X_train,y_train)\n",
    "    pred=neigh.predict(X_test)\n",
    "    train_acc=np.mean(neigh.predict(X_train)==y_train)\n",
    "    test_acc=np.mean(neigh.predict(X_test)==y_test)\n",
    "    acc.append([train_acc,test_acc])"
   ]
  },
  {
   "cell_type": "code",
   "execution_count": 87,
   "id": "7d30afee-da80-4c6d-96ad-a9783a06726d",
   "metadata": {},
   "outputs": [
    {
     "data": {
      "text/plain": [
       "[<matplotlib.lines.Line2D at 0x19a0b24e240>]"
      ]
     },
     "execution_count": 87,
     "metadata": {},
     "output_type": "execute_result"
    },
    {
     "data": {
      "image/png": "[encoded data removed]",
      "text/plain": [
       "<Figure size 640x480 with 1 Axes>"
      ]
     },
     "metadata": {},
     "output_type": "display_data"
    }
   ],
   "source": [
    "import matplotlib.pyplot as plt\n",
    "plt.plot(np.arange(3,50,2),[i[0] for i in acc],\"ro-\")\n",
    "plt.plot(np.arange(3,50,2),[i[1] for i in acc],\"bo-\")"
   ]
  },
  {
   "cell_type": "code",
   "execution_count": null,
   "id": "590217e6-71a1-4a06-bd4c-efc5731ab585",
   "metadata": {},
   "outputs": [],
   "source": []
  }
 ],
 "metadata": {
  "kernelspec": {
   "display_name": "Python 3 (ipykernel)",
   "language": "python",
   "name": "python3"
  },
  "language_info": {
   "codemirror_mode": {
    "name": "ipython",
    "version": 3
   },
   "file_extension": ".py",
   "mimetype": "text/x-python",
   "name": "python",
   "nbconvert_exporter": "python",
   "pygments_lexer": "ipython3",
   "version": "3.12.3"
  }
 },
 "nbformat": 4,
 "nbformat_minor": 5
}
